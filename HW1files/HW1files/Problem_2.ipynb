{
  "cells": [
    {
      "cell_type": "code",
      "execution_count": 10,
      "metadata": {
        "colab": {},
        "colab_type": "code",
        "id": "kF9L73Ooqves"
      },
      "outputs": [],
      "source": [
        "import numpy as np\n",
        "from numpy.linalg import inv"
      ]
    },
    {
      "cell_type": "code",
      "execution_count": 11,
      "metadata": {
        "colab": {},
        "colab_type": "code",
        "id": "b2AqwxNXs7bW"
      },
      "outputs": [],
      "source": [
        "# X and Y coordinates from problem description\n",
        "x = [-1, 2.5, 6.0, -3.5, 3.0, 8.5]\n",
        "y = [8.5, 3.0, -5.5, 13.0, 0.0, -10.0]"
      ]
    },
    {
      "cell_type": "code",
      "execution_count": 12,
      "metadata": {
        "colab": {},
        "colab_type": "code",
        "id": "EthOUWp5tTpW"
      },
      "outputs": [],
      "source": [
        "# TODO: Form the A matrix and the b vector\n",
        "\n",
        "a = np.zeros((len(x),2))\n",
        "a[:,0] = x\n",
        "a[:,1] = 1\n",
        "\n",
        "b = np.array(y)"
      ]
    },
    {
      "cell_type": "code",
      "execution_count": 13,
      "metadata": {
        "colab": {},
        "colab_type": "code",
        "id": "OYC3qMTltgVX"
      },
      "outputs": [],
      "source": [
        "# TODO: Find the vector q\n",
        "q = inv(a.T @ a) @ a.T @ b"
      ]
    },
    {
      "cell_type": "code",
      "execution_count": 14,
      "metadata": {
        "colab": {},
        "colab_type": "code",
        "id": "NGw-XA15t_kI"
      },
      "outputs": [
        {
          "name": "stdout",
          "output_type": "stream",
          "text": [
            "y = -1.941x + 6.515\n"
          ]
        }
      ],
      "source": [
        "# Display computed q vector\n",
        "print('y = {0:2.3f}x + {1:2.3f}'.format(q[0], q[1]))"
      ]
    },
    {
      "cell_type": "code",
      "execution_count": null,
      "metadata": {
        "colab": {},
        "colab_type": "code",
        "id": "V4RU11p0ufZx"
      },
      "outputs": [],
      "source": []
    }
  ],
  "metadata": {
    "colab": {
      "name": "Problem_2.ipynb",
      "provenance": []
    },
    "kernelspec": {
      "display_name": "Python 3",
      "name": "python3"
    },
    "language_info": {
      "codemirror_mode": {
        "name": "ipython",
        "version": 3
      },
      "file_extension": ".py",
      "mimetype": "text/x-python",
      "name": "python",
      "nbconvert_exporter": "python",
      "pygments_lexer": "ipython3",
      "version": "3.12.6"
    }
  },
  "nbformat": 4,
  "nbformat_minor": 0
}
