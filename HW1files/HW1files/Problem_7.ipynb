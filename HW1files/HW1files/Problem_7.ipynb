{
  "nbformat": 4,
  "nbformat_minor": 0,
  "metadata": {
    "colab": {
      "name": "Problem_7.ipynb",
      "provenance": []
    },
    "kernelspec": {
      "name": "python3",
      "display_name": "Python 3"
    }
  },
  "cells": [
    {
      "cell_type": "code",
      "metadata": {
        "id": "_S4orPxMwQ7p",
        "colab_type": "code",
        "colab": {}
      },
      "source": [
        "import numpy as np\n",
        "from numpy.linalg import svd\n",
        "import matplotlib.pyplot as plt"
      ],
      "execution_count": null,
      "outputs": []
    },
    {
      "cell_type": "code",
      "metadata": {
        "id": "OcTf5Eepwj4T",
        "colab_type": "code",
        "colab": {}
      },
      "source": [
        "# Create X and Y coordinates for ellipse\n",
        "# TODO: Play around with these values to understand what each variable means\n",
        "a, b = 5, 100\n",
        "\n",
        "t = np.arange(0, 100, 0.01)\n",
        "\n",
        "x = a*np.sin(t)\n",
        "y = b*np.cos(t)"
      ],
      "execution_count": null,
      "outputs": []
    },
    {
      "cell_type": "code",
      "metadata": {
        "id": "65J8iQ5Gwuht",
        "colab_type": "code",
        "colab": {
          "base_uri": "https://localhost:8080/",
          "height": 265
        },
        "outputId": "d8821ec0-4e61-4542-a26e-d3049b8ef485"
      },
      "source": [
        "# Display the ellipse\n",
        "plt.plot(x, y, '*-')\n",
        "plt.show()"
      ],
      "execution_count": null,
      "outputs": [
        {
          "output_type": "display_data",
          "data": {
            "image/png": "[encoded data removed]",
            "text/plain": [
              "<Figure size 432x288 with 1 Axes>"
            ]
          },
          "metadata": {
            "tags": [],
            "needs_background": "light"
          }
        }
      ]
    },
    {
      "cell_type": "code",
      "metadata": {
        "id": "EV9WWAmkwvUl",
        "colab_type": "code",
        "colab": {}
      },
      "source": [
        "# Rotate the points of the ellipse\n",
        "cc = np.cos(np.pi / 3)\n",
        "ss = np.sin(np.pi / 3)\n",
        "\n",
        "R = np.array([[cc, ss],\n",
        "              [-ss, cc]])\n",
        "\n",
        "pts = np.stack((x, y))\n",
        "\n",
        "rpts = np.dot(R, pts)"
      ],
      "execution_count": null,
      "outputs": []
    },
    {
      "cell_type": "code",
      "metadata": {
        "id": "5wZA9Ho9x9OF",
        "colab_type": "code",
        "colab": {
          "base_uri": "https://localhost:8080/",
          "height": 34
        },
        "outputId": "8a6866eb-227d-43fa-9ffc-520a9f12e618"
      },
      "source": [
        "rpts.shape"
      ],
      "execution_count": null,
      "outputs": [
        {
          "output_type": "execute_result",
          "data": {
            "text/plain": [
              "(2, 10000)"
            ]
          },
          "metadata": {
            "tags": []
          },
          "execution_count": 20
        }
      ]
    },
    {
      "cell_type": "code",
      "metadata": {
        "id": "RfPB60xBxSIG",
        "colab_type": "code",
        "colab": {}
      },
      "source": [
        "# TODO: Compute the rotated angle in radians and degrees from rpts\n",
        "# TODO: Change the rotation angle and repeat computation\n"
      ],
      "execution_count": null,
      "outputs": []
    },
    {
      "cell_type": "code",
      "metadata": {
        "id": "aPft9zxgxvpm",
        "colab_type": "code",
        "colab": {}
      },
      "source": [
        "# Rotate original points based on estimate\n",
        "cc = np.cos(est_rot_angle)\n",
        "ss = np.sin(est_rot_angle)\n",
        "\n",
        "R = np.array([[cc, ss],\n",
        "              [-ss, cc]])\n",
        "\n",
        "pts = np.stack((x, y))\n",
        "\n",
        "est_rpts = np.dot(R, pts)\n",
        "\n",
        "# Display results\n",
        "plt.plot(rpts[0,:], rpts[1,:], 'b*', alpha=0.01)\n",
        "plt.plot(est_rpts[0,:], est_rpts[1,:], 'r*', alpha=0.01)\n",
        "# TODO: add legend\n",
        "plt.show()"
      ],
      "execution_count": null,
      "outputs": []
    },
    {
      "cell_type": "code",
      "metadata": {
        "id": "bALOBe0tyG1P",
        "colab_type": "code",
        "colab": {}
      },
      "source": [
        ""
      ],
      "execution_count": null,
      "outputs": []
    }
  ]
}