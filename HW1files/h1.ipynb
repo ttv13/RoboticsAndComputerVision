{
 "cells": [
  {
   "cell_type": "code",
   "execution_count": 3,
   "metadata": {},
   "outputs": [
    {
     "name": "stdout",
     "output_type": "stream",
     "text": [
      "Singular values: [11.01365384  2.54146561  0.09990768]\n",
      "The columns of A are linearly independent.\n"
     ]
    }
   ],
   "source": [
    "#Determine if the columns of the matrix are linearly independent\n",
    "import numpy as np\n",
    "# Define the matrix A\n",
    "A = np.array([[1, 2, 3],\n",
    "              [4, 5, 6],\n",
    "              [7, 8, 9]])\n",
    "\n",
    "# Compute the SVD\n",
    "U, S, Vt = np.linalg.svd(A)\n",
    "\n",
    "# Check the singular values\n",
    "print(\"Singular values:\", S)\n",
    "\n",
    "# Determine linear independence\n",
    "if np.all(S > 1e-10):  # Using a small threshold\n",
    "    print(\"The columns of A are linearly independent.\")\n",
    "else:\n",
    "    print(\"The columns of A are linearly dependent.\")"
   ]
  },
  {
   "cell_type": "code",
   "execution_count": 11,
   "metadata": {},
   "outputs": [
    {
     "name": "stdout",
     "output_type": "stream",
     "text": [
      "3\n",
      "[[-1.32 -0.18  2.13]\n",
      " [ 2.64 -4.68  4.65]\n",
      " [ 1.47 -4.75  6.8 ]]\n",
      "There are not only two independent columns in the matrix.\n"
     ]
    }
   ],
   "source": [
    "import numpy as np\n",
    "\n",
    "# Define the matrix\n",
    "matrix = np.array([\n",
    "    [-1.32, -0.18, 2.13],\n",
    "    [2.64, -4.68, 4.65],\n",
    "    [1.47, -4.75, 6.80]\n",
    "])\n",
    "\n",
    "# Calculate the rank of the matrix\n",
    "rank = np.linalg.matrix_rank(matrix)\n",
    "print (rank)\n",
    "print (matrix)\n",
    "# Check if there are only two independent columns\n",
    "if rank == 2:\n",
    "    print(\"There are only two independent columns in the matrix.\")\n",
    "else:\n",
    "    print(\"There are not only two independent columns in the matrix.\")\n"
   ]
  },
  {
   "cell_type": "code",
   "execution_count": null,
   "metadata": {},
   "outputs": [],
   "source": [
    "A = np.zeros((len(x),2))\n",
    "A[:,0] = x\n",
    "A[:,1] = 1\n",
    "b = np.array(y)\n",
    "\n",
    "q = inv(A.T @ A) @ A.T @ b\n",
    "\n",
    "print('y = {0:2.3f}x + {1:2.3f}'.format(q[0],q[1]))"
   ]
  }
 ],
 "metadata": {
  "kernelspec": {
   "display_name": "Python 3",
   "language": "python",
   "name": "python3"
  },
  "language_info": {
   "codemirror_mode": {
    "name": "ipython",
    "version": 3
   },
   "file_extension": ".py",
   "mimetype": "text/x-python",
   "name": "python",
   "nbconvert_exporter": "python",
   "pygments_lexer": "ipython3",
   "version": "3.12.6"
  }
 },
 "nbformat": 4,
 "nbformat_minor": 2
}
